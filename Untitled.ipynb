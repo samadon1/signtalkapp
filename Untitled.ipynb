{
 "cells": [
  {
   "cell_type": "code",
   "execution_count": 7,
   "id": "af60c9ce",
   "metadata": {},
   "outputs": [],
   "source": [
    "# !pip install tensorflow"
   ]
  },
  {
   "cell_type": "code",
   "execution_count": null,
   "id": "8db77413",
   "metadata": {},
   "outputs": [],
   "source": [
    "import numpy as np"
   ]
  },
  {
   "cell_type": "code",
   "execution_count": 8,
   "id": "2ce9309d",
   "metadata": {},
   "outputs": [],
   "source": [
    "X = np.load(\"X.npy\")"
   ]
  },
  {
   "cell_type": "code",
   "execution_count": 9,
   "id": "7d9af9c4",
   "metadata": {},
   "outputs": [],
   "source": [
    "# new_x = []"
   ]
  },
  {
   "cell_type": "code",
   "execution_count": 10,
   "id": "c450a2ce",
   "metadata": {},
   "outputs": [],
   "source": [
    "# for i in range(10):\n",
    "#     new_x.append(X[i][:79776])"
   ]
  },
  {
   "cell_type": "code",
   "execution_count": 11,
   "id": "11973e15",
   "metadata": {},
   "outputs": [],
   "source": [
    "# new_x = np.array(new_x)"
   ]
  },
  {
   "cell_type": "code",
   "execution_count": 12,
   "id": "21855ebf",
   "metadata": {},
   "outputs": [
    {
     "data": {
      "text/plain": [
       "(0,)"
      ]
     },
     "execution_count": 12,
     "metadata": {},
     "output_type": "execute_result"
    }
   ],
   "source": [
    "# new_x.shape"
   ]
  },
  {
   "cell_type": "code",
   "execution_count": 13,
   "id": "95379b45",
   "metadata": {},
   "outputs": [
    {
     "data": {
      "text/plain": [
       "(1071, 618264)"
      ]
     },
     "execution_count": 13,
     "metadata": {},
     "output_type": "execute_result"
    }
   ],
   "source": [
    "X.shape"
   ]
  },
  {
   "cell_type": "code",
   "execution_count": 14,
   "id": "d460010e",
   "metadata": {},
   "outputs": [],
   "source": [
    "new_x = X.reshape((1071, 1662, 372))"
   ]
  },
  {
   "cell_type": "code",
   "execution_count": 15,
   "id": "01bcefd6",
   "metadata": {},
   "outputs": [
    {
     "data": {
      "text/plain": [
       "(1071, 1662, 372)"
      ]
     },
     "execution_count": 15,
     "metadata": {},
     "output_type": "execute_result"
    }
   ],
   "source": [
    "new_x.shape"
   ]
  },
  {
   "cell_type": "code",
   "execution_count": 16,
   "id": "9f1aa304",
   "metadata": {},
   "outputs": [],
   "source": [
    "new_y = np.load(\"Y.npy\", allow_pickle=True)"
   ]
  },
  {
   "cell_type": "code",
   "execution_count": 17,
   "id": "dcfe864b",
   "metadata": {},
   "outputs": [],
   "source": [
    "# new_y = new_y[:10]"
   ]
  },
  {
   "cell_type": "code",
   "execution_count": 18,
   "id": "9db85c9d",
   "metadata": {},
   "outputs": [
    {
     "data": {
      "text/plain": [
       "(1071,)"
      ]
     },
     "execution_count": 18,
     "metadata": {},
     "output_type": "execute_result"
    }
   ],
   "source": [
    "new_y.shape"
   ]
  },
  {
   "cell_type": "code",
   "execution_count": 19,
   "id": "bb0476bd",
   "metadata": {},
   "outputs": [],
   "source": [
    "from sklearn.preprocessing import LabelEncoder\n",
    "\n",
    "code = np.array(new_y)\n",
    "\n",
    "label_encoder = LabelEncoder()\n",
    "vec = label_encoder.fit_transform(code)"
   ]
  },
  {
   "cell_type": "code",
   "execution_count": 20,
   "id": "8e6c6ebd",
   "metadata": {},
   "outputs": [],
   "source": [
    "from keras.utils import to_categorical\n",
    "\n",
    "y = to_categorical(vec)"
   ]
  },
  {
   "cell_type": "code",
   "execution_count": 21,
   "id": "e6582ba4",
   "metadata": {},
   "outputs": [
    {
     "data": {
      "text/plain": [
       "(1071, 878)"
      ]
     },
     "execution_count": 21,
     "metadata": {},
     "output_type": "execute_result"
    }
   ],
   "source": [
    "y.shape"
   ]
  },
  {
   "cell_type": "code",
   "execution_count": 22,
   "id": "30636ea3",
   "metadata": {},
   "outputs": [
    {
     "name": "stdout",
     "output_type": "stream",
     "text": [
      "(1071, 1662, 372)\n",
      "(1071, 878)\n"
     ]
    }
   ],
   "source": [
    "print(new_x.shape)\n",
    "print(y.shape)"
   ]
  },
  {
   "cell_type": "code",
   "execution_count": 26,
   "id": "c037afbc",
   "metadata": {},
   "outputs": [
    {
     "name": "stdout",
     "output_type": "stream",
     "text": [
      "Model: \"model_2\"\n",
      "_________________________________________________________________\n",
      " Layer (type)                Output Shape              Param #   \n",
      "=================================================================\n",
      " input_3 (InputLayer)        [(None, 1662, 372)]       0         \n",
      "                                                                 \n",
      " dense_6 (Dense)             (None, 1662, 512)         190976    \n",
      "                                                                 \n",
      " layer_normalization_4 (Laye  (None, 1662, 512)        1024      \n",
      " rNormalization)                                                 \n",
      "                                                                 \n",
      " activation_4 (Activation)   (None, 1662, 512)         0         \n",
      "                                                                 \n",
      " dropout_4 (Dropout)         (None, 1662, 512)         0         \n",
      "                                                                 \n",
      " dense_7 (Dense)             (None, 1662, 256)         131328    \n",
      "                                                                 \n",
      " layer_normalization_5 (Laye  (None, 1662, 256)        512       \n",
      " rNormalization)                                                 \n",
      "                                                                 \n",
      " activation_5 (Activation)   (None, 1662, 256)         0         \n",
      "                                                                 \n",
      " dropout_5 (Dropout)         (None, 1662, 256)         0         \n",
      "                                                                 \n",
      " lstm_2 (LSTM)               (None, 50)                61400     \n",
      "                                                                 \n",
      " dense_8 (Dense)             (None, 878)               44778     \n",
      "                                                                 \n",
      "=================================================================\n",
      "Total params: 430,018\n",
      "Trainable params: 430,018\n",
      "Non-trainable params: 0\n",
      "_________________________________________________________________\n"
     ]
    }
   ],
   "source": [
    "import tensorflow as tf\n",
    "from tensorflow.keras import layers, optimizers\n",
    "# include early stopping and reducelr\n",
    "def get_callbacks():\n",
    "    return [\n",
    "            tf.keras.callbacks.EarlyStopping(\n",
    "            monitor=\"val_accuracy\",\n",
    "            patience = 10,\n",
    "            restore_best_weights=True\n",
    "        ),\n",
    "        tf.keras.callbacks.ReduceLROnPlateau(\n",
    "            monitor = \"val_accuracy\",\n",
    "            factor = 0.5,\n",
    "            patience = 3\n",
    "        ),\n",
    "    ]\n",
    "\n",
    "# a single dense block followed by a normalization block and relu activation\n",
    "def dense_block(units, name):\n",
    "    fc = layers.Dense(units)\n",
    "    norm = layers.LayerNormalization()\n",
    "    act = layers.Activation(\"relu\")\n",
    "    drop = layers.Dropout(0.1)\n",
    "    return lambda x: drop(act(norm(fc(x))))\n",
    "\n",
    "# the lstm block with the final dense block for the classification\n",
    "def classifier(lstm_units):\n",
    "    lstm = layers.LSTM(lstm_units)\n",
    "    out = layers.Dense(878, activation=\"softmax\")\n",
    "    return lambda x: out(lstm(x))\n",
    "# choose the number of nodes per layer\n",
    "encoder_units = [512, 256] # tune this\n",
    "lstm_units = 50 # tune this\n",
    "\n",
    "#define the inputs (ragged batches of time series of landmark coordinates)\n",
    "inputs = tf.keras.Input(shape=((1662, 372)), ragged=False)\n",
    "\n",
    "# dense encoder model\n",
    "x = inputs\n",
    "for i, n in enumerate(encoder_units):\n",
    "    x = dense_block(n, f\"encoder_{i}\")(x)\n",
    "\n",
    "# classifier model\n",
    "out = classifier(lstm_units)(x)\n",
    "\n",
    "model = tf.keras.Model(inputs=inputs, outputs=out)\n",
    "model.summary()\n"
   ]
  },
  {
   "cell_type": "code",
   "execution_count": null,
   "id": "6a92cb3f",
   "metadata": {},
   "outputs": [
    {
     "name": "stdout",
     "output_type": "stream",
     "text": [
      "Epoch 1/2000\n",
      "34/34 [==============================] - 143s 4s/step - loss: 6.8096 - accuracy: 0.0000e+00\n",
      "Epoch 2/2000\n",
      "34/34 [==============================] - 182s 5s/step - loss: 6.7811 - accuracy: 9.3371e-04\n",
      "Epoch 3/2000\n",
      "34/34 [==============================] - 184s 5s/step - loss: 6.7751 - accuracy: 0.0028\n",
      "Epoch 4/2000\n",
      "34/34 [==============================] - 191s 6s/step - loss: 6.7732 - accuracy: 0.0019\n",
      "Epoch 5/2000\n",
      "34/34 [==============================] - 180s 5s/step - loss: 6.7714 - accuracy: 0.0056\n",
      "Epoch 6/2000\n",
      "34/34 [==============================] - 184s 5s/step - loss: 6.7681 - accuracy: 0.0056\n",
      "Epoch 7/2000\n",
      "34/34 [==============================] - 186s 5s/step - loss: 6.7629 - accuracy: 0.0056\n",
      "Epoch 8/2000\n",
      "34/34 [==============================] - 184s 5s/step - loss: 6.7602 - accuracy: 0.0056\n",
      "Epoch 9/2000\n",
      "34/34 [==============================] - 189s 6s/step - loss: 6.7568 - accuracy: 0.0056\n",
      "Epoch 10/2000\n",
      "34/34 [==============================] - 184s 5s/step - loss: 6.7520 - accuracy: 0.0056\n",
      "Epoch 11/2000\n",
      "34/34 [==============================] - 188s 6s/step - loss: 6.7478 - accuracy: 0.0056\n",
      "Epoch 12/2000\n",
      "34/34 [==============================] - 249s 7s/step - loss: 6.7471 - accuracy: 0.0056\n",
      "Epoch 13/2000\n",
      "34/34 [==============================] - 239s 7s/step - loss: 6.7422 - accuracy: 0.0056\n",
      "Epoch 14/2000\n",
      "34/34 [==============================] - 220s 6s/step - loss: 6.7418 - accuracy: 0.0056\n",
      "Epoch 15/2000\n",
      "34/34 [==============================] - 225s 7s/step - loss: 6.7391 - accuracy: 0.0056\n",
      "Epoch 16/2000\n",
      "34/34 [==============================] - 236s 7s/step - loss: 6.7372 - accuracy: 0.0056\n",
      "Epoch 17/2000\n",
      "34/34 [==============================] - 226s 7s/step - loss: 6.7357 - accuracy: 0.0056\n",
      "Epoch 18/2000\n",
      "34/34 [==============================] - 229s 7s/step - loss: 6.7340 - accuracy: 0.0056\n",
      "Epoch 19/2000\n",
      "34/34 [==============================] - 228s 7s/step - loss: 6.7331 - accuracy: 0.0056\n",
      "Epoch 20/2000\n",
      "34/34 [==============================] - 209s 6s/step - loss: 6.7325 - accuracy: 0.0056\n",
      "Epoch 21/2000\n",
      "34/34 [==============================] - 204s 6s/step - loss: 6.7319 - accuracy: 0.0056\n",
      "Epoch 22/2000\n",
      "34/34 [==============================] - 190s 6s/step - loss: 6.7309 - accuracy: 0.0056\n",
      "Epoch 23/2000\n",
      "34/34 [==============================] - 185s 5s/step - loss: 6.7300 - accuracy: 0.0056\n",
      "Epoch 24/2000\n",
      "34/34 [==============================] - 185s 5s/step - loss: 6.7297 - accuracy: 0.0056\n",
      "Epoch 25/2000\n",
      "34/34 [==============================] - 200s 6s/step - loss: 6.7295 - accuracy: 0.0056\n",
      "Epoch 26/2000\n",
      "34/34 [==============================] - 205s 6s/step - loss: 6.7285 - accuracy: 0.0056\n",
      "Epoch 27/2000\n",
      "34/34 [==============================] - 202s 6s/step - loss: 6.7285 - accuracy: 0.0056\n",
      "Epoch 28/2000\n",
      "34/34 [==============================] - 205s 6s/step - loss: 6.7279 - accuracy: 0.0056\n",
      "Epoch 29/2000\n",
      "34/34 [==============================] - 199s 6s/step - loss: 6.7279 - accuracy: 0.0056\n",
      "Epoch 30/2000\n",
      "34/34 [==============================] - 200s 6s/step - loss: 6.7273 - accuracy: 0.0056\n",
      "Epoch 31/2000\n",
      "34/34 [==============================] - 200s 6s/step - loss: 6.7282 - accuracy: 0.0056\n",
      "Epoch 32/2000\n",
      "34/34 [==============================] - 196s 6s/step - loss: 6.7268 - accuracy: 0.0056\n",
      "Epoch 33/2000\n",
      "34/34 [==============================] - 199s 6s/step - loss: 6.7263 - accuracy: 0.0056\n",
      "Epoch 34/2000\n",
      "34/34 [==============================] - 198s 6s/step - loss: 6.7259 - accuracy: 0.0056\n",
      "Epoch 35/2000\n",
      "34/34 [==============================] - 195s 6s/step - loss: 6.7258 - accuracy: 0.0056\n",
      "Epoch 36/2000\n",
      "34/34 [==============================] - 288s 9s/step - loss: 6.7253 - accuracy: 0.0056\n",
      "Epoch 37/2000\n",
      "34/34 [==============================] - 373s 11s/step - loss: 6.7257 - accuracy: 0.0056\n",
      "Epoch 38/2000\n",
      " 9/34 [======>.......................] - ETA: 4:08 - loss: 6.7426 - accuracy: 0.0069"
     ]
    }
   ],
   "source": [
    "# optimizer = optimizers.RMSprop(learning_rate = 0.000001)\n",
    "\n",
    "model.compile(optimizer=\"Adam\",\n",
    "              loss=\"categorical_crossentropy\",\n",
    "              metrics=[\"accuracy\"])\n",
    "# fit the model with 100 epochs iteration\n",
    "model.fit(new_x,\n",
    "          y,\n",
    "          verbose = 1,\n",
    "        #   callbacks = get_callbacks(),\n",
    "          epochs = 2000)"
   ]
  },
  {
   "cell_type": "code",
   "execution_count": null,
   "id": "ee921451",
   "metadata": {},
   "outputs": [],
   "source": []
  },
  {
   "cell_type": "code",
   "execution_count": null,
   "id": "3eaa7eef",
   "metadata": {},
   "outputs": [],
   "source": []
  }
 ],
 "metadata": {
  "kernelspec": {
   "display_name": "Python 3 (ipykernel)",
   "language": "python",
   "name": "python3"
  },
  "language_info": {
   "codemirror_mode": {
    "name": "ipython",
    "version": 3
   },
   "file_extension": ".py",
   "mimetype": "text/x-python",
   "name": "python",
   "nbconvert_exporter": "python",
   "pygments_lexer": "ipython3",
   "version": "3.10.7"
  }
 },
 "nbformat": 4,
 "nbformat_minor": 5
}
